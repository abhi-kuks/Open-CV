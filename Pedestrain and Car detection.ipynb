{
 "cells": [
  {
   "cell_type": "code",
   "execution_count": 1,
   "metadata": {},
   "outputs": [],
   "source": [
    "import sys"
   ]
  },
  {
   "cell_type": "code",
   "execution_count": 2,
   "metadata": {},
   "outputs": [
    {
     "name": "stdout",
     "output_type": "stream",
     "text": [
      "/home/abhi_kuks/anaconda3/envs/Deep_Learning_Cv/bin/python\n"
     ]
    }
   ],
   "source": [
    "print(sys.executable)"
   ]
  },
  {
   "cell_type": "code",
   "execution_count": 3,
   "metadata": {},
   "outputs": [],
   "source": [
    "import cv2\n",
    "import numpy as np"
   ]
  },
  {
   "cell_type": "markdown",
   "metadata": {},
   "source": [
    "# Pedestrian Detection"
   ]
  },
  {
   "cell_type": "code",
   "execution_count": 12,
   "metadata": {},
   "outputs": [],
   "source": [
    "body_classifier = cv2.CascadeClassifier(\"Haarcascades/haarcascade_fullbody.xml\")\n",
    "\n",
    "cap =cv2.VideoCapture('images/walking.avi')\n",
    "\n",
    "while cap.isOpened():\n",
    "    ret , frame = cap.read()\n",
    "    frame = cv2.resize(frame ,None ,fx = 0.5,fy = 0.5,interpolation = cv2.INTER_LINEAR)\n",
    "    gray  = cv2.cvtColor(frame , cv2.COLOR_BGR2GRAY)\n",
    "    bodies = body_classifier.detectMultiScale(gray , 1.2 , 6)\n",
    "    \n",
    "    for x,y,w,h in bodies:\n",
    "        cv2.rectangle(frame , (x,y) , (x+w , y+h) , (0 ,255 ,255) ,3)\n",
    "        cv2.imshow('Pedestrians' , frame)\n",
    "    if cv2.waitKey(1) ==13:\n",
    "            break\n",
    "        \n",
    "        \n",
    "cap.release()\n",
    "cv2.destroyAllWindows()"
   ]
  },
  {
   "cell_type": "markdown",
   "metadata": {},
   "source": [
    "# Car Detection"
   ]
  },
  {
   "cell_type": "code",
   "execution_count": 15,
   "metadata": {},
   "outputs": [],
   "source": [
    "import time\n",
    "car_classifier = cv2.CascadeClassifier(\"Haarcascades/haarcascade_car.xml\")\n",
    "\n",
    "cap =cv2.VideoCapture('images/cars.avi')\n",
    "\n",
    "while cap.isOpened():\n",
    "    time.sleep(.05)\n",
    "    ret , frame = cap.read()\n",
    "    gray  = cv2.cvtColor(frame , cv2.COLOR_BGR2GRAY)\n",
    "    cars = car_classifier.detectMultiScale(gray , 1.4 , 2)\n",
    "    \n",
    "    for x,y,w,h in cars:\n",
    "        cv2.rectangle(frame , (x,y) , (x+w , y+h) , (0 ,255 ,255) ,3)\n",
    "        cv2.imshow('cars' , frame)\n",
    "    if cv2.waitKey(1) ==13:\n",
    "            break\n",
    "        \n",
    "        \n",
    "cap.release()\n",
    "cv2.destroyAllWindows()"
   ]
  },
  {
   "cell_type": "code",
   "execution_count": null,
   "metadata": {},
   "outputs": [],
   "source": []
  }
 ],
 "metadata": {
  "kernelspec": {
   "display_name": "Python 3",
   "language": "python",
   "name": "python3"
  },
  "language_info": {
   "codemirror_mode": {
    "name": "ipython",
    "version": 3
   },
   "file_extension": ".py",
   "mimetype": "text/x-python",
   "name": "python",
   "nbconvert_exporter": "python",
   "pygments_lexer": "ipython3",
   "version": "3.6.9"
  }
 },
 "nbformat": 4,
 "nbformat_minor": 2
}
