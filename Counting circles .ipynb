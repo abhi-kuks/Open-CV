{
 "cells": [
  {
   "cell_type": "code",
   "execution_count": 2,
   "metadata": {},
   "outputs": [],
   "source": [
    "import numpy as np\n",
    "import cv2"
   ]
  },
  {
   "cell_type": "code",
   "execution_count": 8,
   "metadata": {},
   "outputs": [],
   "source": [
    "img  = cv2.imread('images/blobs.jpg' , 0)\n",
    "cv2.imshow(\"Original Images\" ,  img)\n",
    "cv2.waitKey(0)\n",
    "\n",
    "# Initialize the detector using default parameters\n",
    "detector = cv2.SimpleBlobDetector_create()\n",
    "\n",
    "# Detector Blobs\n",
    "keypoints = detector.detect(img)\n",
    "\n",
    "blank = np.zeros((1,1))\n",
    "blobs = cv2.drawKeypoints(img,keypoints , blank , (0,255,0),\n",
    "                         cv2.DRAW_MATCHES_FLAGS_DRAW_RICH_KEYPOINTS)\n",
    "\n",
    "no_of_blobs = len(keypoints)\n",
    "text  = f\"Total Number of blobs : {str(no_of_blobs)}\"\n",
    "cv2.putText(blobs , text , (20 , 550) , cv2.FONT_HERSHEY_SIMPLEX,\n",
    "           1 , (100 ,  0 , 255) , 2)\n",
    "\n",
    "# Display image with blob keypoints\n",
    "cv2.imshow(\"Blobs using default parameters\" , blobs)\n",
    "cv2.waitKey(0)\n",
    "\n",
    "\n",
    "\n",
    "# Initialize the detector using parameters setting \n",
    "params = cv2.SimpleBlobDetector_Params()\n",
    "\n",
    "# Set area filtering parameters\n",
    "params.filterByArea = True\n",
    "params.minArea = 100\n",
    "\n",
    "# Set circularity filtering parameters\n",
    "params.filterByCircularity = True\n",
    "params.minCircularity = 0.9\n",
    "\n",
    "# Set convexity filtering parameters\n",
    "params.filterByConvexity = False\n",
    "params.minConvexity = 0.2\n",
    "\n",
    "# Set inertia filtering parameters\n",
    "params.filterByInertia  = True\n",
    "params.minInertiaRatio = 0.01\n",
    "\n",
    "# Creating a detector with parameters\n",
    "detector = cv2.SimpleBlobDetector_create(params)\n",
    "\n",
    "# Detector Blobs\n",
    "keypoints = detector.detect(img)\n",
    "\n",
    "blank = np.zeros((1,1))\n",
    "blobs = cv2.drawKeypoints(img,keypoints , blank , (255,0,0),\n",
    "                         cv2.DRAW_MATCHES_FLAGS_DRAW_RICH_KEYPOINTS)\n",
    "\n",
    "text  = f\"Total Number of blobs : {str(len(keypoints))}\"\n",
    "cv2.putText(blobs , text , (20 , 550) , cv2.FONT_HERSHEY_SIMPLEX,\n",
    "           1 , (100 ,  0 , 255) , 2)\n",
    "\n",
    "# Display image with blob keypoints\n",
    "cv2.imshow(\"Filtering Circular Blobs only\" , blobs)\n",
    "cv2.waitKey(0)\n",
    "cv2.destroyAllWindows()"
   ]
  },
  {
   "cell_type": "code",
   "execution_count": null,
   "metadata": {},
   "outputs": [],
   "source": []
  }
 ],
 "metadata": {
  "kernelspec": {
   "display_name": "Python 3",
   "language": "python",
   "name": "python3"
  },
  "language_info": {
   "codemirror_mode": {
    "name": "ipython",
    "version": 3
   },
   "file_extension": ".py",
   "mimetype": "text/x-python",
   "name": "python",
   "nbconvert_exporter": "python",
   "pygments_lexer": "ipython3",
   "version": "3.6.9"
  }
 },
 "nbformat": 4,
 "nbformat_minor": 2
}
