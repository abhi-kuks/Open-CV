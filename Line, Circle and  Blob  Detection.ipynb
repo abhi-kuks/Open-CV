{
 "cells": [
  {
   "cell_type": "code",
   "execution_count": 2,
   "metadata": {},
   "outputs": [],
   "source": [
    "import cv2\n",
    "import numpy as np"
   ]
  },
  {
   "cell_type": "markdown",
   "metadata": {},
   "source": [
    "## Hough Lines "
   ]
  },
  {
   "cell_type": "code",
   "execution_count": 3,
   "metadata": {},
   "outputs": [],
   "source": [
    "img =cv2.imread('images/soduku.jpg')\n",
    "gray= cv2.cvtColor(img,cv2.COLOR_BGR2GRAY)\n",
    "edges = cv2.Canny(gray, 100 , 170 , apertureSize = 3)\n",
    "\n",
    "cv2.imshow('Edges' , edges)\n",
    "cv2.waitKey(0)\n",
    "\n",
    "lines = cv2.HoughLines(edges , 1 , np.pi / 180 , 240)\n",
    "\n",
    "for line in lines:\n",
    "    rho,theta  = line[0]\n",
    "#     print(rho)\n",
    "#     print(theta)\n",
    "    a = np.cos(theta)\n",
    "    b = np.sin(theta)\n",
    "    x0 = a * rho\n",
    "    y0 = b * rho\n",
    "    x1 = int(x0 + 1000 *(-b))\n",
    "    y1 = int(y0 + 1000 *(a))\n",
    "    x2 = int(x0 - 1000 *(-b))\n",
    "    y2 = int(y0 - 1000 *(a))\n",
    "    cv2.line(img , (x1,y1),(x2,y2),(0,255,0) ,2)\n",
    "\n",
    "cv2.imshow('Hough Lines' , img)\n",
    "cv2.waitKey(0)\n",
    "cv2.destroyAllWindows()"
   ]
  },
  {
   "cell_type": "markdown",
   "metadata": {},
   "source": [
    "## Probabilistic Hough Lines\n"
   ]
  },
  {
   "cell_type": "code",
   "execution_count": 4,
   "metadata": {},
   "outputs": [
    {
     "name": "stdout",
     "output_type": "stream",
     "text": [
      "(272, 1, 4)\n"
     ]
    }
   ],
   "source": [
    "image = cv2.imread('images/soduku.jpg')\n",
    "gray = cv2.cvtColor(image , cv2.COLOR_BGR2GRAY)\n",
    "edges =cv2.Canny(gray , 100 , 170 , apertureSize = 3)\n",
    "\n",
    "lines = cv2.HoughLinesP(edges , 1, np.pi / 180  , 180 , 5 , 8)\n",
    "print(lines.shape)\n",
    "\n",
    "for line in lines:\n",
    "    x1,y1,x2,y2 = line[0]\n",
    "    cv2.line(image , (x1,y1) , (x2,y2) , (0,255,0) , 3)\n",
    "\n",
    "cv2.imshow(\"Probabilistic Hough Lines\" , image)\n",
    "cv2.waitKey(0)\n",
    "cv2.destroyAllWindows()"
   ]
  },
  {
   "cell_type": "markdown",
   "metadata": {},
   "source": [
    "# Circle Detection with Hough Cirlces\n",
    "\n",
    "cv2.HoughCircles(image, method, dp, MinDist, param1, param2, minRadius, MaxRadius)\n",
    "\n",
    "\n",
    "- Method - currently only cv2.HOUGH_GRADIENT available\n",
    "\n",
    "- dp - Inverse ratio of accumulator resolution\n",
    "\n",
    "- MinDist - the minimum distance between the center of detected circles\n",
    "\n",
    "- param1 - Gradient value used in the edge detection\n",
    "\n",
    "- param2 - Accumulator threshold for the HOUGH_GRADIENT method, lower allows more circles to be detected (false positives)\n",
    "\n",
    "- minRadius - limits the smallest circle to this size (via radius)\n",
    "\n",
    "\n",
    "- MaxRadius - similarly sets the limit for the largest circles"
   ]
  },
  {
   "cell_type": "code",
   "execution_count": 5,
   "metadata": {},
   "outputs": [],
   "source": [
    "img = cv2.imread('images/bottlecaps.jpg')\n",
    "gray = cv2.cvtColor(img , cv2.COLOR_BGR2GRAY)\n",
    "\n",
    "blur  = cv2.medianBlur(gray,5)\n",
    "circles = cv2.HoughCircles(blur , cv2.HOUGH_GRADIENT,1.5 ,10,\n",
    "                          param1=100,param2=100,minRadius=25,maxRadius=60)\n",
    "\n",
    "circles = np.uint16(np.around(circles))\n",
    "for i in circles[0,:]:\n",
    "    cv2.circle(img , (i[0], i[1]) , i[2] , (255 , 0 , 0) , 2)\n",
    "    cv2.circle(img , (i[0], i[1]) , 2 , (0,255 , 0) , 5)\n",
    "\n",
    "cv2.imshow('Detected Circles' ,img)\n",
    "cv2.waitKey(0)\n",
    "cv2.destroyAllWindows()\n",
    "        \n",
    "    "
   ]
  },
  {
   "cell_type": "markdown",
   "metadata": {},
   "source": [
    "## Blob Detection\n",
    "The function cv2.drawKeypoints takes the following arguments:\n",
    "\n",
    "cv2.drawKeypoints(input image, keypoints, blank_output_array, color, flags)\n",
    "\n",
    "flags:\n",
    "\n",
    "  - cv2.DRAW_MATCHES_FLAGS_DEFAULT\n",
    "  - cv2.DRAW_MATCHES_FLAGS_DRAW_RICH_KEYPOINTS\n",
    "  - cv2.DRAW_MATCHES_FLAGS_DRAW_OVER_OUTIMG\n",
    "  - cv2.DRAW_MATCHES_FLAGS_NOT_DRAW_SINGLE_POINTS\n",
    "\n"
   ]
  },
  {
   "cell_type": "code",
   "execution_count": 10,
   "metadata": {},
   "outputs": [],
   "source": [
    "image = cv2.imread('images/Sunflowers.jpg',0 )\n",
    "detector = cv2.SimpleBlobDetector_create()\n",
    "\n",
    "keypoints = detector.detect(image)\n",
    "\n",
    "blank = np.zeros((1,1))\n",
    "blobs = cv2.drawKeypoints(image,keypoints ,blank , (0,255,255),\n",
    "                         cv2.DRAW_MATCHES_FLAGS_DEFAULT)\n",
    "\n",
    "cv2.imshow('Blobs' , blobs)\n",
    "cv2.waitKey(0)\n",
    "cv2.destroyAllWindows()"
   ]
  }
 ],
 "metadata": {
  "kernelspec": {
   "display_name": "Python 3",
   "language": "python",
   "name": "python3"
  },
  "language_info": {
   "codemirror_mode": {
    "name": "ipython",
    "version": 3
   },
   "file_extension": ".py",
   "mimetype": "text/x-python",
   "name": "python",
   "nbconvert_exporter": "python",
   "pygments_lexer": "ipython3",
   "version": "3.6.9"
  }
 },
 "nbformat": 4,
 "nbformat_minor": 2
}
